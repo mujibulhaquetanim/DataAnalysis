import numpy as np # linear algebra
import pandas as pd # data processing, CSV file I/O (e.g. pd.read_csv)
import seaborn as sns # data visualisation and plotting
import matplotlib.pyplot as plt # data plotting
import warnings

sns.set_style("darkgrid")
sns.set(rc={'figure.figsize':(8.7,6.27)})
warnings.filterwarnings('ignore') 
pd.options.display.max_columns=999

data = pd.read_csv('/content/drive/MyDrive/IRIS (1).csv')

data.head()

data.describe()

data['species'].value_counts()

snsdata = data.drop([], axis=1)
g = sns.pairplot(snsdata, hue='species', markers='x')
g = g.map_upper(plt.scatter)
g = g.map_lower(sns.kdeplot)

sns.violinplot(x='sepal_length', y='species', data=data, inner='stick', palette='autumn')
plt.show()
sns.violinplot(x='sepal_width', y='species', data=data, inner='stick', palette='autumn')
plt.show()
sns.violinplot(x='petal_length', y='species', data=data, inner='stick', palette='autumn')
plt.show()
sns.violinplot(x='petal_width', y='species', data=data, inner='stick', palette='autumn')
plt.show()

rows, col = data.shape
print("Rows : %s, column : %s" % (rows, col))




